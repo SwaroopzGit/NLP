{
 "cells": [
  {
   "cell_type": "markdown",
   "metadata": {
    "id": "2gv2i9fNDvrg"
   },
   "source": [
    "## Post Sentiment Classification Task"
   ]
  },
  {
   "cell_type": "code",
   "execution_count": 198,
   "metadata": {
    "colab": {
     "base_uri": "https://localhost:8080/"
    },
    "id": "ZG9BpbQt3-ko",
    "outputId": "b8a0fe73-5caf-4922-b187-eb9f08a76fff"
   },
   "outputs": [
    {
     "name": "stdout",
     "output_type": "stream",
     "text": [
      "3.8.3 (default, May 19 2020, 13:54:14) \n",
      "[Clang 10.0.0 ]\n"
     ]
    }
   ],
   "source": [
    "import pandas as pd\n",
    "import numpy as np\n",
    "import spacy\n",
    "import sys\n",
    "import collections \n",
    "print(sys.version)\n",
    "# Version checks\n",
    "import matplotlib.pyplot as plt\n",
    "\n",
    "\n",
    "train_data = pd.read_json(\"https://raw.githubusercontent.com/rpsoft/tad_course/main/reddit_sentiment_train.json\")\n",
    "\n",
    "validation_data = pd.read_json(\"https://raw.githubusercontent.com/rpsoft/tad_course/main/reddit_sentiment_validation.json\")\n",
    "\n",
    "test_data = pd.read_json(\"https://raw.githubusercontent.com/rpsoft/tad_course/main/reddit_sentiment_test.json\")"
   ]
  },
  {
   "cell_type": "code",
   "execution_count": 199,
   "metadata": {
    "id": "_szVTMMCDY6e"
   },
   "outputs": [],
   "source": [
    "nlp = spacy.load('en_core_web_sm', disable=['ner'])\n",
    "counter = collections.Counter\n"
   ]
  },
  {
   "cell_type": "markdown",
   "metadata": {},
   "source": [
    "# Handle the empty entries and replace with NaN"
   ]
  },
  {
   "cell_type": "code",
   "execution_count": 200,
   "metadata": {
    "colab": {
     "base_uri": "https://localhost:8080/"
    },
    "id": "p8T6nv3pF2x3",
    "outputId": "8e007dd8-e9b1-4b17-a8c6-09e1bd97e473"
   },
   "outputs": [
    {
     "data": {
      "text/html": [
       "<div>\n",
       "<style scoped>\n",
       "    .dataframe tbody tr th:only-of-type {\n",
       "        vertical-align: middle;\n",
       "    }\n",
       "\n",
       "    .dataframe tbody tr th {\n",
       "        vertical-align: top;\n",
       "    }\n",
       "\n",
       "    .dataframe thead th {\n",
       "        text-align: right;\n",
       "    }\n",
       "</style>\n",
       "<table border=\"1\" class=\"dataframe\">\n",
       "  <thead>\n",
       "    <tr style=\"text-align: right;\">\n",
       "      <th></th>\n",
       "      <th>subreddit</th>\n",
       "      <th>title</th>\n",
       "      <th>id</th>\n",
       "      <th>url</th>\n",
       "      <th>author</th>\n",
       "      <th>body</th>\n",
       "      <th>majority_type</th>\n",
       "      <th>is_first_post</th>\n",
       "      <th>post_depth</th>\n",
       "      <th>in_reply_to</th>\n",
       "      <th>sentiment.polarity</th>\n",
       "      <th>sentiment.subjectivity</th>\n",
       "    </tr>\n",
       "  </thead>\n",
       "  <tbody>\n",
       "    <tr>\n",
       "      <th>0</th>\n",
       "      <td>relationships</td>\n",
       "      <td>My Friend/Crush [22/F] acting weird after I [2...</td>\n",
       "      <td>t1_cy7f317</td>\n",
       "      <td>https://www.reddit.com/r/relationships/comment...</td>\n",
       "      <td>Melodrama_</td>\n",
       "      <td>It's a sad realization, isn't it?</td>\n",
       "      <td></td>\n",
       "      <td>False</td>\n",
       "      <td>2</td>\n",
       "      <td>t1_cy7erc5</td>\n",
       "      <td>negative</td>\n",
       "      <td>1.000000</td>\n",
       "    </tr>\n",
       "    <tr>\n",
       "      <th>1</th>\n",
       "      <td>relationships</td>\n",
       "      <td>My Friend/Crush [22/F] acting weird after I [2...</td>\n",
       "      <td>t1_cy7hlyf</td>\n",
       "      <td>https://www.reddit.com/r/relationships/comment...</td>\n",
       "      <td>Melodrama_</td>\n",
       "      <td>I told her a couple of minutes ago that I didn...</td>\n",
       "      <td>elaboration</td>\n",
       "      <td>False</td>\n",
       "      <td>2</td>\n",
       "      <td>t1_cy7erc5</td>\n",
       "      <td>neutral</td>\n",
       "      <td>0.483631</td>\n",
       "    </tr>\n",
       "    <tr>\n",
       "      <th>2</th>\n",
       "      <td>relationships</td>\n",
       "      <td>My Friend/Crush [22/F] acting weird after I [2...</td>\n",
       "      <td>t1_cy7etrr</td>\n",
       "      <td>https://www.reddit.com/r/relationships/comment...</td>\n",
       "      <td>TreatYoSelves</td>\n",
       "      <td>Leeches don't make good friends.</td>\n",
       "      <td>answer</td>\n",
       "      <td>False</td>\n",
       "      <td>1</td>\n",
       "      <td>t3_3xshx9</td>\n",
       "      <td>positive</td>\n",
       "      <td>0.600000</td>\n",
       "    </tr>\n",
       "    <tr>\n",
       "      <th>3</th>\n",
       "      <td>relationships</td>\n",
       "      <td>My Friend/Crush [22/F] acting weird after I [2...</td>\n",
       "      <td>t1_cy7hhpq</td>\n",
       "      <td>https://www.reddit.com/r/relationships/comment...</td>\n",
       "      <td>Melodrama_</td>\n",
       "      <td>I just ended it. Apparently she wasn't a good ...</td>\n",
       "      <td>elaboration</td>\n",
       "      <td>False</td>\n",
       "      <td>2</td>\n",
       "      <td>t1_cy7etrr</td>\n",
       "      <td>positive</td>\n",
       "      <td>0.475000</td>\n",
       "    </tr>\n",
       "    <tr>\n",
       "      <th>4</th>\n",
       "      <td>relationships</td>\n",
       "      <td>My Friend/Crush [22/F] acting weird after I [2...</td>\n",
       "      <td>t1_cy7q0qg</td>\n",
       "      <td>https://www.reddit.com/r/relationships/comment...</td>\n",
       "      <td>TreatYoSelves</td>\n",
       "      <td>Good for you!  Make sure you stick with it.</td>\n",
       "      <td>appreciation</td>\n",
       "      <td>False</td>\n",
       "      <td>3</td>\n",
       "      <td>t1_cy7hhpq</td>\n",
       "      <td>positive</td>\n",
       "      <td>0.744444</td>\n",
       "    </tr>\n",
       "    <tr>\n",
       "      <th>...</th>\n",
       "      <td>...</td>\n",
       "      <td>...</td>\n",
       "      <td>...</td>\n",
       "      <td>...</td>\n",
       "      <td>...</td>\n",
       "      <td>...</td>\n",
       "      <td>...</td>\n",
       "      <td>...</td>\n",
       "      <td>...</td>\n",
       "      <td>...</td>\n",
       "      <td>...</td>\n",
       "      <td>...</td>\n",
       "    </tr>\n",
       "    <tr>\n",
       "      <th>12133</th>\n",
       "      <td>reddit.com</td>\n",
       "      <td>If I announced myself as God right now, would ...</td>\n",
       "      <td>t1_c1zpyd0</td>\n",
       "      <td>https://www.reddit.com/r/reddit.com/comments/h...</td>\n",
       "      <td></td>\n",
       "      <td>If you were God, you'd know whether we would b...</td>\n",
       "      <td>answer</td>\n",
       "      <td>False</td>\n",
       "      <td>1</td>\n",
       "      <td>t3_hzu51</td>\n",
       "      <td>neutral</td>\n",
       "      <td>0.000000</td>\n",
       "    </tr>\n",
       "    <tr>\n",
       "      <th>12134</th>\n",
       "      <td>reddit.com</td>\n",
       "      <td>If I announced myself as God right now, would ...</td>\n",
       "      <td>t1_c1zpz7m</td>\n",
       "      <td>https://www.reddit.com/r/reddit.com/comments/h...</td>\n",
       "      <td>TheCannon</td>\n",
       "      <td>If I check my account balance in 5 minutes and...</td>\n",
       "      <td>answer</td>\n",
       "      <td>False</td>\n",
       "      <td>1</td>\n",
       "      <td>t3_hzu51</td>\n",
       "      <td>neutral</td>\n",
       "      <td>0.000000</td>\n",
       "    </tr>\n",
       "    <tr>\n",
       "      <th>12135</th>\n",
       "      <td>reddit.com</td>\n",
       "      <td>If I announced myself as God right now, would ...</td>\n",
       "      <td>t1_c1zq0tl</td>\n",
       "      <td>https://www.reddit.com/r/reddit.com/comments/h...</td>\n",
       "      <td>alllie</td>\n",
       "      <td>I don't know. Can you heal the sick with a tou...</td>\n",
       "      <td>answer</td>\n",
       "      <td>False</td>\n",
       "      <td>1</td>\n",
       "      <td>t3_hzu51</td>\n",
       "      <td>negative</td>\n",
       "      <td>0.637202</td>\n",
       "    </tr>\n",
       "    <tr>\n",
       "      <th>12136</th>\n",
       "      <td>reddit.com</td>\n",
       "      <td>If I announced myself as God right now, would ...</td>\n",
       "      <td>t1_c1zq19j</td>\n",
       "      <td>https://www.reddit.com/r/reddit.com/comments/h...</td>\n",
       "      <td>TheCannon</td>\n",
       "      <td>... Give LeBron James a championship ring?</td>\n",
       "      <td>humor</td>\n",
       "      <td>False</td>\n",
       "      <td>2</td>\n",
       "      <td>t1_c1zq0tl</td>\n",
       "      <td>neutral</td>\n",
       "      <td>0.000000</td>\n",
       "    </tr>\n",
       "    <tr>\n",
       "      <th>12137</th>\n",
       "      <td>reddit.com</td>\n",
       "      <td>If I announced myself as God right now, would ...</td>\n",
       "      <td>t1_c1zqg1w</td>\n",
       "      <td>https://www.reddit.com/r/reddit.com/comments/h...</td>\n",
       "      <td>blueiiiis</td>\n",
       "      <td>Well, if you believed it, that'd be one</td>\n",
       "      <td>answer</td>\n",
       "      <td>False</td>\n",
       "      <td>1</td>\n",
       "      <td>t3_hzu51</td>\n",
       "      <td>neutral</td>\n",
       "      <td>0.000000</td>\n",
       "    </tr>\n",
       "  </tbody>\n",
       "</table>\n",
       "<p>12138 rows × 12 columns</p>\n",
       "</div>"
      ],
      "text/plain": [
       "           subreddit                                              title  \\\n",
       "0      relationships  My Friend/Crush [22/F] acting weird after I [2...   \n",
       "1      relationships  My Friend/Crush [22/F] acting weird after I [2...   \n",
       "2      relationships  My Friend/Crush [22/F] acting weird after I [2...   \n",
       "3      relationships  My Friend/Crush [22/F] acting weird after I [2...   \n",
       "4      relationships  My Friend/Crush [22/F] acting weird after I [2...   \n",
       "...              ...                                                ...   \n",
       "12133     reddit.com  If I announced myself as God right now, would ...   \n",
       "12134     reddit.com  If I announced myself as God right now, would ...   \n",
       "12135     reddit.com  If I announced myself as God right now, would ...   \n",
       "12136     reddit.com  If I announced myself as God right now, would ...   \n",
       "12137     reddit.com  If I announced myself as God right now, would ...   \n",
       "\n",
       "               id                                                url  \\\n",
       "0      t1_cy7f317  https://www.reddit.com/r/relationships/comment...   \n",
       "1      t1_cy7hlyf  https://www.reddit.com/r/relationships/comment...   \n",
       "2      t1_cy7etrr  https://www.reddit.com/r/relationships/comment...   \n",
       "3      t1_cy7hhpq  https://www.reddit.com/r/relationships/comment...   \n",
       "4      t1_cy7q0qg  https://www.reddit.com/r/relationships/comment...   \n",
       "...           ...                                                ...   \n",
       "12133  t1_c1zpyd0  https://www.reddit.com/r/reddit.com/comments/h...   \n",
       "12134  t1_c1zpz7m  https://www.reddit.com/r/reddit.com/comments/h...   \n",
       "12135  t1_c1zq0tl  https://www.reddit.com/r/reddit.com/comments/h...   \n",
       "12136  t1_c1zq19j  https://www.reddit.com/r/reddit.com/comments/h...   \n",
       "12137  t1_c1zqg1w  https://www.reddit.com/r/reddit.com/comments/h...   \n",
       "\n",
       "              author                                               body  \\\n",
       "0         Melodrama_                  It's a sad realization, isn't it?   \n",
       "1         Melodrama_  I told her a couple of minutes ago that I didn...   \n",
       "2      TreatYoSelves                  Leeches don't make good friends.    \n",
       "3         Melodrama_  I just ended it. Apparently she wasn't a good ...   \n",
       "4      TreatYoSelves       Good for you!  Make sure you stick with it.    \n",
       "...              ...                                                ...   \n",
       "12133                 If you were God, you'd know whether we would b...   \n",
       "12134      TheCannon  If I check my account balance in 5 minutes and...   \n",
       "12135         alllie  I don't know. Can you heal the sick with a tou...   \n",
       "12136      TheCannon         ... Give LeBron James a championship ring?   \n",
       "12137      blueiiiis            Well, if you believed it, that'd be one   \n",
       "\n",
       "      majority_type  is_first_post  post_depth in_reply_to sentiment.polarity  \\\n",
       "0                            False           2  t1_cy7erc5           negative   \n",
       "1       elaboration          False           2  t1_cy7erc5            neutral   \n",
       "2            answer          False           1   t3_3xshx9           positive   \n",
       "3       elaboration          False           2  t1_cy7etrr           positive   \n",
       "4      appreciation          False           3  t1_cy7hhpq           positive   \n",
       "...             ...            ...         ...         ...                ...   \n",
       "12133        answer          False           1    t3_hzu51            neutral   \n",
       "12134        answer          False           1    t3_hzu51            neutral   \n",
       "12135        answer          False           1    t3_hzu51           negative   \n",
       "12136         humor          False           2  t1_c1zq0tl            neutral   \n",
       "12137        answer          False           1    t3_hzu51            neutral   \n",
       "\n",
       "       sentiment.subjectivity  \n",
       "0                    1.000000  \n",
       "1                    0.483631  \n",
       "2                    0.600000  \n",
       "3                    0.475000  \n",
       "4                    0.744444  \n",
       "...                       ...  \n",
       "12133                0.000000  \n",
       "12134                0.000000  \n",
       "12135                0.637202  \n",
       "12136                0.000000  \n",
       "12137                0.000000  \n",
       "\n",
       "[12138 rows x 12 columns]"
      ]
     },
     "execution_count": 200,
     "metadata": {},
     "output_type": "execute_result"
    }
   ],
   "source": [
    "# train_data = train_data.replace(r'^\\s*$', np.nan, regex=True)\n",
    "# validation_data = validation_data.replace(r'^\\s*$', np.nan, regex=True)\n",
    "# test_data = test_data.replace(r'^\\s*$', np.nan, regex=True)\n",
    "train_data"
   ]
  },
  {
   "cell_type": "code",
   "execution_count": 237,
   "metadata": {},
   "outputs": [
    {
     "data": {
      "text/plain": [
       "Counter({'': 1100,\n",
       "         'elaboration': 1638,\n",
       "         'answer': 5207,\n",
       "         'appreciation': 674,\n",
       "         'question': 2016,\n",
       "         'disagreement': 356,\n",
       "         'negativereaction': 157,\n",
       "         'agreement': 406,\n",
       "         'announcement': 122,\n",
       "         'humor': 275,\n",
       "         'other': 187})"
      ]
     },
     "execution_count": 237,
     "metadata": {},
     "output_type": "execute_result"
    }
   ],
   "source": [
    "counter(train_data['majority_type'])"
   ]
  },
  {
   "cell_type": "code",
   "execution_count": null,
   "metadata": {},
   "outputs": [],
   "source": []
  },
  {
   "cell_type": "code",
   "execution_count": 201,
   "metadata": {
    "id": "REvXkGRbdx0i"
   },
   "outputs": [],
   "source": [
    "##Solution\n",
    "#Alternate solution:\n",
    "\n",
    "label_dict = {\"very negative\": 0, \"negative\": 1, \"neutral\": 2, \"positive\": 3, \"very positive\": 4}\n",
    "def create_label(x):\n",
    "    for key, value in label_dict.items():\n",
    "      if x == key:\n",
    "        return value\n",
    "\n",
    "# Train data\n",
    "train_data['labels'] = train_data['sentiment.polarity'].apply(create_label)\n",
    "\n",
    "# Validation Data\n",
    "validation_data['labels'] = validation_data['sentiment.polarity'].apply(create_label)\n",
    "\n",
    "#Test data\n",
    "test_data['labels'] = test_data['sentiment.polarity'].apply(create_label)\n",
    "\n"
   ]
  },
  {
   "cell_type": "code",
   "execution_count": 202,
   "metadata": {
    "id": "ZMQ-nEc0RXtZ"
   },
   "outputs": [],
   "source": [
    "#Tokenize\n",
    "def spacy_tokenize(string):\n",
    "  tokens = list()\n",
    "  doc = nlp(string)\n",
    "  for token in doc:\n",
    "    tokens.append(token)\n",
    "  return tokens\n",
    "\n",
    "#Normalize\n",
    "def normalize(tokens):\n",
    "  normalized_tokens = list()\n",
    "  for token in tokens:\n",
    "    normalized = token.text.lower().strip()\n",
    "    if ((token.is_alpha or token.is_digit)):\n",
    "      normalized_tokens.append(normalized)\n",
    "  return normalized_tokens\n",
    "\n",
    "#Tokenize and normalize\n",
    "def tokenize_normalize(string):\n",
    "  return normalize(spacy_tokenize(string))\n",
    "  "
   ]
  },
  {
   "cell_type": "code",
   "execution_count": 203,
   "metadata": {
    "colab": {
     "base_uri": "https://localhost:8080/"
    },
    "id": "Zq9iswzDG3pK",
    "outputId": "8f5e93d7-a319-4804-a79c-e167d82cd852"
   },
   "outputs": [
    {
     "data": {
      "text/plain": [
       "Counter({2: 2514, 3: 1102, 4: 86, 1: 282, 0: 32})"
      ]
     },
     "execution_count": 203,
     "metadata": {},
     "output_type": "execute_result"
    }
   ],
   "source": [
    "train_counter = counter(test_data['labels'])\n",
    "train_counter"
   ]
  },
  {
   "cell_type": "markdown",
   "metadata": {
    "id": "S7A0YpVaG-a-"
   },
   "source": [
    "train: Counter({0: 97, 1: 8557, 3: 3231, 4: 253})\n",
    "\n",
    "valida : Counter({0: 15, 1: 2176, 3: 845, 4: 73})\n",
    "\n",
    "Counter({0: 32, 1: 2796, 3: 1102, 4: 86})\n"
   ]
  },
  {
   "cell_type": "code",
   "execution_count": 111,
   "metadata": {
    "id": "T8133EwIDUkl"
   },
   "outputs": [],
   "source": [
    "from sklearn.feature_extraction.text import CountVectorizer, TfidfVectorizer\n",
    "train_labels = train_data['labels']\n",
    "\n",
    "# Pass in the tokenizer as the tokenizer to the vectorizer.\n",
    "# Create a one-hot encoding vectorizer.\n",
    "one_hot_vectorizer = CountVectorizer(tokenizer=tokenize_normalize, binary=True)\n",
    "train_features = one_hot_vectorizer.fit_transform(train_data['body'])"
   ]
  },
  {
   "cell_type": "code",
   "execution_count": 79,
   "metadata": {
    "id": "4e0sObZtCUx8"
   },
   "outputs": [],
   "source": [
    "\n",
    "validation_labels = validation_data['labels']\n",
    "\n",
    "validation_features = one_hot_vectorizer.transform(validation_data['body'])"
   ]
  },
  {
   "cell_type": "code",
   "execution_count": 80,
   "metadata": {
    "id": "bfWcjZ5iCk_5"
   },
   "outputs": [],
   "source": [
    "test_labels = test_data['labels']\n",
    "\n",
    "test_features = one_hot_vectorizer.transform(test_data['body'])"
   ]
  },
  {
   "cell_type": "code",
   "execution_count": null,
   "metadata": {
    "colab": {
     "base_uri": "https://localhost:8080/",
     "height": 307
    },
    "id": "sOOTLfe6GG4e",
    "outputId": "0ba292ee-518a-40be-a45e-15abcd6072ec"
   },
   "outputs": [],
   "source": []
  },
  {
   "cell_type": "code",
   "execution_count": 309,
   "metadata": {
    "id": "ntzEJZdNGgWW"
   },
   "outputs": [],
   "source": [
    "from sklearn.metrics import classification_report\n",
    "from sklearn.metrics import confusion_matrix, plot_confusion_matrix\n",
    "from sklearn.metrics import precision_score\n",
    "from sklearn.metrics import recall_score\n",
    "from sklearn.metrics import accuracy_score\n",
    "from sklearn.metrics import fbeta_score\n",
    "\n",
    "\n",
    "def evaluation_summary(description, predictions, true_labels):\n",
    "  print(\"Evaluation for: \" + description)\n",
    "  precision = precision_score(predictions, true_labels, average=\"macro\")\n",
    "  recall = recall_score(predictions, true_labels, average= \"macro\")\n",
    "  accuracy = accuracy_score(predictions, true_labels)\n",
    "  f1_macro = fbeta_score(predictions, true_labels, 1, average= \"macro\") #1 means f_1 measure\n",
    "  f1_weighted = fbeta_score(predictions, true_labels, 1, average= \"weighted\") #1 means f_1 measure\n",
    "  print(\"Classifier '%s' has Acc=%0.3f P=%0.3f R=%0.3f F1 Macro=%0.3f F1 Weighted=%0.3f\" % (description,accuracy,precision,recall,f1_macro, f1_weighted))\n",
    "  print(classification_report(predictions, true_labels, digits=3, zero_division = 0))\n",
    "  print('\\nConfusion matrix:\\n',confusion_matrix(true_labels, predictions)) # Note the order here is true, predicted\n",
    "  return round(f1_macro,3)\n"
   ]
  },
  {
   "cell_type": "code",
   "execution_count": 83,
   "metadata": {
    "id": "zaZQytxMx2Bg"
   },
   "outputs": [],
   "source": [
    "# p = evaluation_summary(\"Dummy Majority\", dummy_mf.predict(test_features), test_labels)"
   ]
  },
  {
   "cell_type": "code",
   "execution_count": 311,
   "metadata": {
    "id": "wmZEeBHqPrAd"
   },
   "outputs": [],
   "source": [
    "def evaluation_summary_f1_per_class(description, predictions, true_labels):\n",
    "  f1_per_class = classification_report(predictions, true_labels, digits=3, zero_division = 0, output_dict=True)\n",
    "  return f1_per_class"
   ]
  },
  {
   "cell_type": "code",
   "execution_count": 85,
   "metadata": {
    "id": "BUP2xV3bE4X2"
   },
   "outputs": [],
   "source": [
    "from sklearn.dummy import DummyClassifier\n",
    "# Stratified\n",
    "dummy_prior = DummyClassifier(strategy='stratified')\n",
    "dummy_prior.fit(train_features, train_labels)\n",
    "\n",
    "# print(dummy_prior.score(test_features, test_labels))\n",
    "dummy_stratified_f1 = evaluation_summary_f1_per_class(\"Dummy Prior\", dummy_prior.predict(test_features), test_labels)\n",
    "dummy_stratified_f2 = evaluation_summary_f1_per_class(\"Dummy Prior\", dummy_prior.predict(test_features), test_labels)\n",
    "\n",
    "# Most Frequent\n",
    "dummy_mf = DummyClassifier(strategy='most_frequent')\n",
    "dummy_mf.fit(train_features, train_labels)\n",
    "# print(dummy_mf.score(validation_features, validation_labels))\n",
    "dummy_mf_f1 = evaluation_summary_f1_per_class(\"Dummy Majority\", dummy_mf.predict(test_features), test_labels)"
   ]
  },
  {
   "cell_type": "code",
   "execution_count": 317,
   "metadata": {},
   "outputs": [
    {
     "data": {
      "text/plain": [
       "0.6326412918108419"
      ]
     },
     "execution_count": 317,
     "metadata": {},
     "output_type": "execute_result"
    }
   ],
   "source": [
    "dummy_stra_score = dummy_prior.score(train_features, train_labels)\n",
    "dummy_mf_score = dummy_mf.score(train_features, train_labels)\n",
    "dummy_mf_score"
   ]
  },
  {
   "cell_type": "code",
   "execution_count": 86,
   "metadata": {
    "colab": {
     "base_uri": "https://localhost:8080/"
    },
    "id": "2u3Q3lZ8PcTK",
    "outputId": "bc71beac-7562-4ca3-e1fa-e53cbe57489d"
   },
   "outputs": [
    {
     "name": "stdout",
     "output_type": "stream",
     "text": [
      "(3109,)\n"
     ]
    }
   ],
   "source": [
    "print((validation_labels).shape)"
   ]
  },
  {
   "cell_type": "code",
   "execution_count": 112,
   "metadata": {
    "id": "btxw9mAxR6Q2"
   },
   "outputs": [],
   "source": [
    "tf_idf_vectorizer = TfidfVectorizer(tokenizer=tokenize_normalize)\n",
    "train_features_tf = tf_idf_vectorizer.fit_transform(train_data['body'])\n",
    "validation_features_tf = tf_idf_vectorizer.transform(validation_data['body'])\n",
    "test_features_tf = tf_idf_vectorizer.transform(test_data['body'])"
   ]
  },
  {
   "cell_type": "code",
   "execution_count": 113,
   "metadata": {
    "colab": {
     "base_uri": "https://localhost:8080/"
    },
    "id": "4vaD9ccBKA-Z",
    "outputId": "37b291b6-179f-4229-cf66-17b4d71549a3"
   },
   "outputs": [
    {
     "name": "stdout",
     "output_type": "stream",
     "text": [
      "Evaluation for: LR onehot\n",
      "Classifier 'LR onehot' has Acc=0.747 P=0.432 R=0.621 F1 Macro=0.476 F1 Weighted=0.762\n",
      "              precision    recall  f1-score   support\n",
      "\n",
      "           0      0.125     0.667     0.211         6\n",
      "           1      0.245     0.479     0.324       144\n",
      "           2      0.876     0.778     0.824      2831\n",
      "           3      0.635     0.711     0.671       984\n",
      "           4      0.279     0.471     0.350        51\n",
      "\n",
      "    accuracy                          0.747      4016\n",
      "   macro avg      0.432     0.621     0.476      4016\n",
      "weighted avg      0.786     0.747     0.762      4016\n",
      "\n",
      "\n",
      "Confusion matrix:\n",
      " [[   4    5   23    0    0]\n",
      " [   1   69  204    8    0]\n",
      " [   1   67 2202  231   13]\n",
      " [   0    3  385  700   14]\n",
      " [   0    0   17   45   24]]\n"
     ]
    },
    {
     "name": "stderr",
     "output_type": "stream",
     "text": [
      "/Users/swaroop/opt/anaconda3/lib/python3.8/site-packages/sklearn/utils/validation.py:70: FutureWarning: Pass beta=1 as keyword args. From version 1.0 (renaming of 0.25) passing these as positional arguments will result in an error\n",
      "  warnings.warn(f\"Pass {args_msg} as keyword args. From version \"\n",
      "/Users/swaroop/opt/anaconda3/lib/python3.8/site-packages/sklearn/utils/validation.py:70: FutureWarning: Pass beta=1 as keyword args. From version 1.0 (renaming of 0.25) passing these as positional arguments will result in an error\n",
      "  warnings.warn(f\"Pass {args_msg} as keyword args. From version \"\n"
     ]
    },
    {
     "data": {
      "text/plain": [
       "0.9617729444719064"
      ]
     },
     "execution_count": 113,
     "metadata": {},
     "output_type": "execute_result"
    }
   ],
   "source": [
    "#Logistic Regression\n",
    "\n",
    "from sklearn.linear_model import LogisticRegression\n",
    "lr = LogisticRegression(solver='saga', max_iter = 1000)\n",
    "lr_model = lr.fit(train_features, train_labels)\n",
    "logistic_oh_f1 = evaluation_summary_f1_per_class(\"LR onehot\", lr_model.predict(test_features), test_labels)\n",
    "evaluation_summary(\"LR onehot\", lr_model.predict(test_features), test_labels)\n",
    "lr_model.score(train_features, train_labels)"
   ]
  },
  {
   "cell_type": "code",
   "execution_count": 186,
   "metadata": {
    "colab": {
     "base_uri": "https://localhost:8080/"
    },
    "id": "zvN-h6VzaJUC",
    "outputId": "938649bf-a7fd-4c60-e938-e59e0afcc434"
   },
   "outputs": [
    {
     "data": {
      "text/plain": [
       "0.9617729444719064"
      ]
     },
     "execution_count": 186,
     "metadata": {},
     "output_type": "execute_result"
    }
   ],
   "source": [
    "lr_model.score(train_features, train_labels)"
   ]
  },
  {
   "cell_type": "code",
   "execution_count": 89,
   "metadata": {
    "colab": {
     "base_uri": "https://localhost:8080/"
    },
    "id": "LfftUSrtGLsm",
    "outputId": "c2ef2b55-de42-4285-81d2-27fc290fe4ee"
   },
   "outputs": [
    {
     "name": "stdout",
     "output_type": "stream",
     "text": [
      "Evaluation for: LR TF-IDF\n",
      "Classifier 'LR TF-IDF' has Acc=0.748 P=0.396 R=0.705 F1 Macro=0.434 F1 Weighted=0.770\n",
      "              precision    recall  f1-score   support\n",
      "\n",
      "           0      0.031     1.000     0.061         1\n",
      "           1      0.181     0.481     0.263       106\n",
      "           2      0.902     0.765     0.828      2965\n",
      "           3      0.599     0.732     0.659       902\n",
      "           4      0.267     0.548     0.359        42\n",
      "\n",
      "    accuracy                          0.748      4016\n",
      "   macro avg      0.396     0.705     0.434      4016\n",
      "weighted avg      0.808     0.748     0.770      4016\n",
      "\n",
      "\n",
      "Confusion matrix:\n",
      " [[   1    7   24    0    0]\n",
      " [   0   51  222    9    0]\n",
      " [   0   47 2268  189   10]\n",
      " [   0    1  432  660    9]\n",
      " [   0    0   19   44   23]]\n"
     ]
    },
    {
     "name": "stderr",
     "output_type": "stream",
     "text": [
      "/Users/swaroop/opt/anaconda3/lib/python3.8/site-packages/sklearn/utils/validation.py:70: FutureWarning: Pass beta=1 as keyword args. From version 1.0 (renaming of 0.25) passing these as positional arguments will result in an error\n",
      "  warnings.warn(f\"Pass {args_msg} as keyword args. From version \"\n",
      "/Users/swaroop/opt/anaconda3/lib/python3.8/site-packages/sklearn/utils/validation.py:70: FutureWarning: Pass beta=1 as keyword args. From version 1.0 (renaming of 0.25) passing these as positional arguments will result in an error\n",
      "  warnings.warn(f\"Pass {args_msg} as keyword args. From version \"\n"
     ]
    }
   ],
   "source": [
    "#Logistic Regression TF-IDF\n",
    "\n",
    "from sklearn.linear_model import LogisticRegression\n",
    "lr = LogisticRegression(solver='saga', max_iter = 1000)\n",
    "lr_model = lr.fit(train_features_tf, train_labels)\n",
    "logistic_tidf_f1 = evaluation_summary_f1_per_class(\"LR TF-IDF\", lr_model.predict(test_features_tf), test_labels)\n",
    "evaluation_summary(\"LR TF-IDF\", lr_model.predict(test_features_tf), test_labels)"
   ]
  },
  {
   "cell_type": "code",
   "execution_count": 187,
   "metadata": {
    "colab": {
     "base_uri": "https://localhost:8080/"
    },
    "id": "AgiqHiTQaN1b",
    "outputId": "6ed87ab9-cdf1-48cb-a398-16c2e9acddc0"
   },
   "outputs": [
    {
     "data": {
      "text/plain": [
       "0.9617729444719064"
      ]
     },
     "execution_count": 187,
     "metadata": {},
     "output_type": "execute_result"
    }
   ],
   "source": [
    "lr_model.score(train_features, train_labels)"
   ]
  },
  {
   "cell_type": "code",
   "execution_count": 312,
   "metadata": {
    "id": "ZC3LFHVse0f0"
   },
   "outputs": [],
   "source": [
    "#SVC \n",
    "from sklearn.svm import SVC\n",
    "\n",
    "svm_classifier = SVC()\n",
    "svm_model = svm_classifier.fit(train_features, train_labels)\n",
    "svc_oh_f1 = evaluation_summary_f1_per_class(\"LR One hot\", lr_model.predict(test_features), test_labels)"
   ]
  },
  {
   "cell_type": "code",
   "execution_count": 92,
   "metadata": {
    "colab": {
     "base_uri": "https://localhost:8080/"
    },
    "id": "CUkqejXUbPSN",
    "outputId": "3bc93f1d-6755-46fc-ce2a-6f25ea8f513c"
   },
   "outputs": [
    {
     "data": {
      "text/plain": [
       "0.8623331685615423"
      ]
     },
     "execution_count": 92,
     "metadata": {},
     "output_type": "execute_result"
    }
   ],
   "source": [
    "# svm model score\n",
    "svm_model.score(train_features, train_labels)"
   ]
  },
  {
   "cell_type": "code",
   "execution_count": 313,
   "metadata": {},
   "outputs": [
    {
     "data": {
      "text/plain": [
       "0.7467629482071713"
      ]
     },
     "execution_count": 313,
     "metadata": {},
     "output_type": "execute_result"
    }
   ],
   "source": [
    "svc_oh_f1['accuracy']"
   ]
  },
  {
   "cell_type": "code",
   "execution_count": 93,
   "metadata": {
    "id": "rzWxqIrnkV5H"
   },
   "outputs": [],
   "source": [
    "# Decision trees for multi-class classification \n",
    "from sklearn import tree\n",
    "\n",
    "clf = tree.DecisionTreeClassifier()\n",
    "clf_model = clf.fit(train_features, train_labels)\n",
    "decision_oh_f1 = evaluation_summary_f1_per_class(\"Decision Trees One-Hot\", clf.predict(test_features), test_labels)"
   ]
  },
  {
   "cell_type": "code",
   "execution_count": 94,
   "metadata": {
    "colab": {
     "base_uri": "https://localhost:8080/"
    },
    "id": "MqTEW9YFbwCt",
    "outputId": "dde2e425-7895-4525-fa6c-ec001ca5cf67"
   },
   "outputs": [
    {
     "data": {
      "text/plain": [
       "0.9992585269401878"
      ]
     },
     "execution_count": 94,
     "metadata": {},
     "output_type": "execute_result"
    }
   ],
   "source": [
    "#clf_model - one hot\n",
    "clf_model.score(train_features, train_labels)"
   ]
  },
  {
   "cell_type": "code",
   "execution_count": 95,
   "metadata": {
    "id": "O-PVlpxjxnEu"
   },
   "outputs": [],
   "source": [
    "# Decision trees for multi-class classification \n",
    "from sklearn import tree\n",
    "\n",
    "clf = tree.DecisionTreeClassifier()\n",
    "clf_model = clf.fit(train_features_tf, train_labels)\n",
    "decision_tf_idf_f1 = evaluation_summary_f1_per_class(\"Decision Trees Tf-IDF\", clf.predict(test_features_tf), test_labels)"
   ]
  },
  {
   "cell_type": "code",
   "execution_count": 96,
   "metadata": {
    "colab": {
     "base_uri": "https://localhost:8080/"
    },
    "id": "pfOhoXFMcBg6",
    "outputId": "b6424de4-bf68-4699-aa11-8714a74b4cd7"
   },
   "outputs": [
    {
     "data": {
      "text/plain": [
       "0.9335969681990444"
      ]
     },
     "execution_count": 96,
     "metadata": {},
     "output_type": "execute_result"
    }
   ],
   "source": [
    "#clf_model - tf-idf\n",
    "clf_model.score(train_features, train_labels)"
   ]
  },
  {
   "cell_type": "code",
   "execution_count": 97,
   "metadata": {
    "colab": {
     "base_uri": "https://localhost:8080/"
    },
    "id": "7RtdfkkPr05V",
    "outputId": "1080a465-ac9b-48a4-d7c8-1a416c6a99ad"
   },
   "outputs": [
    {
     "name": "stdout",
     "output_type": "stream",
     "text": [
      "Requirement already satisfied: termtables in /Users/swaroop/opt/anaconda3/lib/python3.8/site-packages (0.2.4)\r\n"
     ]
    }
   ],
   "source": [
    "!pip3 install termtables"
   ]
  },
  {
   "cell_type": "code",
   "execution_count": 323,
   "metadata": {
    "colab": {
     "base_uri": "https://localhost:8080/"
    },
    "id": "RbdLatJ_vOHq",
    "outputId": "3088ce69-85a3-4e3e-e136-8bdbd60866f8"
   },
   "outputs": [
    {
     "name": "stdout",
     "output_type": "stream",
     "text": [
      "+-------------------------------+-----------------------------+--------------------+--------------------+--------------------+---------------------+\n",
      "| Type (max - higlighted)       | Accuracy (max - higlighted) | weighted-precision | recall             | f1-score-weighted  | f1-score-macro      |\n",
      "+===============================+=============================+====================+====================+====================+=====================+\n",
      "| DummyClassifier Stratified    | 0.4723605577689243          | 0.4742816275902377 | 0.4723605577689243 | 0.4732895502619004 | 0.1941524028635974  |\n",
      "+-------------------------------+-----------------------------+--------------------+--------------------+--------------------+---------------------+\n",
      "| DummyClassifier Most Frequent | 0.625996015936255           | 1.0                | 0.625996015936255  | 0.7699846860643186 | 0.15399693721286373 |\n",
      "+-------------------------------+-----------------------------+--------------------+--------------------+--------------------+---------------------+\n",
      "| Logistic Regression One-Hot   | 0.7467629482071713          | 0.7855878197113364 | 0.7467629482071713 | 0.7616479182853904 | 0.47598469909106944 |\n",
      "+-------------------------------+-----------------------------+--------------------+--------------------+--------------------+---------------------+\n",
      "| Logistic Regression Tf- IDF   | 0.7477589641434262          | 0.8081475452771276 | 0.7477589641434262 | 0.7698806981563672 | 0.4338877188119117  |\n",
      "+-------------------------------+-----------------------------+--------------------+--------------------+--------------------+---------------------+\n",
      "| SVC with One-Hot              | 0.7467629482071713          | 0.7855878197113364 | 0.7467629482071713 | 0.7616479182853904 | 0.47598469909106944 |\n",
      "+-------------------------------+-----------------------------+--------------------+--------------------+--------------------+---------------------+\n",
      "| \u001b[1mDecisionTree One Hot          | 0.6875                      | 0.6913031811109352 | 0.6875             | 0.6892516708684728 | 0.48319011141967644\u001b[0m |\n",
      "+-------------------------------+-----------------------------+--------------------+--------------------+--------------------+---------------------+\n",
      "| DecisionTree Tf Idf           | 0.6892430278884463          | 0.6914039616804277 | 0.6892430278884463 | 0.690202685114298  | 0.4785960141890575  |\n",
      "+-------------------------------+-----------------------------+--------------------+--------------------+--------------------+---------------------+\n"
     ]
    }
   ],
   "source": [
    "import termtables as tt\n",
    "\n",
    "tt.print(\n",
    "    [[\"DummyClassifier Stratified\", dummy_stratified_f1['accuracy'], dummy_stratified_f1['weighted avg']['precision'], dummy_stratified_f1['weighted avg']['recall'], dummy_stratified_f1['weighted avg']['f1-score'], dummy_stratified_f1['macro avg']['f1-score']], \n",
    "    [\"DummyClassifier Most Frequent\", dummy_mf_f1['accuracy'], dummy_mf_f1['weighted avg']['precision'], dummy_mf_f1['weighted avg']['recall'], dummy_mf_f1['weighted avg']['f1-score'], dummy_mf_f1['macro avg']['f1-score']], \n",
    "    [\"Logistic Regression One-Hot\", logistic_oh_f1['accuracy'], logistic_oh_f1['weighted avg']['precision'], logistic_oh_f1['weighted avg']['recall'], logistic_oh_f1['weighted avg']['f1-score'], logistic_oh_f1['macro avg']['f1-score']], \n",
    "    [\"Logistic Regression Tf- IDF\", logistic_tidf_f1['accuracy'], logistic_tidf_f1['weighted avg']['precision'], logistic_tidf_f1['weighted avg']['recall'], logistic_tidf_f1['weighted avg']['f1-score'], logistic_tidf_f1['macro avg']['f1-score']], \n",
    "    [\"SVC with One-Hot\", svc_oh_f1['accuracy'], svc_oh_f1['weighted avg']['precision'], svc_oh_f1['weighted avg']['recall'], svc_oh_f1['weighted avg']['f1-score'], svc_oh_f1['macro avg']['f1-score']], \n",
    "    ['\\033[1m'+\"DecisionTree One Hot\", decision_oh_f1['accuracy'], decision_oh_f1['weighted avg']['precision'], decision_oh_f1['weighted avg']['recall'], decision_oh_f1['weighted avg']['f1-score'], str(decision_oh_f1['macro avg']['f1-score'])+'\\033[0m'], \n",
    "    [\"DecisionTree Tf Idf\", decision_tf_idf_f1['accuracy'], decision_tf_idf_f1['weighted avg']['precision'], decision_tf_idf_f1['weighted avg']['recall'], str(decision_tf_idf_f1['weighted avg']['f1-score']), str(decision_tf_idf_f1['macro avg']['f1-score'])]],\n",
    "    header=[\"Type (max - higlighted)\", \"Accuracy (max - higlighted)\", \"weighted-precision\", \"recall\", \"f1-score-weighted\", \"f1-score-macro\"],\n",
    "    style=tt.styles.ascii_thin_double,\n",
    ")\n"
   ]
  },
  {
   "cell_type": "code",
   "execution_count": null,
   "metadata": {
    "id": "MjDoo1piHmWh"
   },
   "outputs": [],
   "source": []
  },
  {
   "cell_type": "code",
   "execution_count": 99,
   "metadata": {
    "id": "eog8a85WIvbk"
   },
   "outputs": [],
   "source": [
    "# Decision trees for multi-class classification \n",
    "from sklearn import tree\n",
    "\n",
    "clf = tree.DecisionTreeClassifier()\n",
    "clf.fit(train_features, train_labels)\n",
    "predictions = clf.predict(test_features)\n",
    "decision_oh_f1_perclass_dict = evaluation_summary_f1_per_class(\"Decision Trees One-Hot\", clf.predict(test_features), test_labels)"
   ]
  },
  {
   "cell_type": "code",
   "execution_count": 184,
   "metadata": {
    "colab": {
     "base_uri": "https://localhost:8080/"
    },
    "id": "13TEuSpq88Fx",
    "outputId": "661323cb-3c0e-40f1-f228-f13b5752c949"
   },
   "outputs": [
    {
     "data": {
      "text/plain": [
       "{'0': {'precision': 0.1875,\n",
       "  'recall': 0.21428571428571427,\n",
       "  'f1-score': 0.19999999999999998,\n",
       "  'support': 28},\n",
       " '1': {'precision': 0.4078014184397163,\n",
       "  'recall': 0.41818181818181815,\n",
       "  'f1-score': 0.41292639138240567,\n",
       "  'support': 275},\n",
       " '2': {'precision': 0.7808273667462211,\n",
       "  'recall': 0.7725304998032271,\n",
       "  'f1-score': 0.7766567754698318,\n",
       "  'support': 2541},\n",
       " '3': {'precision': 0.5852994555353902,\n",
       "  'recall': 0.5863636363636363,\n",
       "  'f1-score': 0.5858310626702997,\n",
       "  'support': 1100},\n",
       " '4': {'precision': 0.3372093023255814,\n",
       "  'recall': 0.4027777777777778,\n",
       "  'f1-score': 0.3670886075949367,\n",
       "  'support': 72},\n",
       " 'accuracy': 0.6867529880478087,\n",
       " 'macro avg': {'precision': 0.45972750860938183,\n",
       "  'recall': 0.4788278892824347,\n",
       "  'f1-score': 0.46850056742349483,\n",
       "  'support': 4016},\n",
       " 'weighted avg': {'precision': 0.6896379979654981,\n",
       "  'recall': 0.6867529880478087,\n",
       "  'f1-score': 0.6881185689201119,\n",
       "  'support': 4016}}"
      ]
     },
     "execution_count": 184,
     "metadata": {},
     "output_type": "execute_result"
    }
   ],
   "source": [
    "decision_oh_f1_perclass_dict"
   ]
  },
  {
   "cell_type": "code",
   "execution_count": 188,
   "metadata": {
    "colab": {
     "base_uri": "https://localhost:8080/",
     "height": 435
    },
    "id": "qhw0U2j1xSl3",
    "outputId": "1da91efd-6860-4c20-bc9e-8c92c3c8790e"
   },
   "outputs": [
    {
     "name": "stdout",
     "output_type": "stream",
     "text": [
      "very negative 0\n",
      "negative 1\n",
      "neutral 2\n",
      "positive 3\n",
      "very positive 4\n"
     ]
    },
    {
     "data": {
      "image/png": "[encoded data removed]",
      "text/plain": [
       "<Figure size 432x288 with 1 Axes>"
      ]
     },
     "metadata": {
      "needs_background": "light"
     },
     "output_type": "display_data"
    }
   ],
   "source": [
    "# Plotting\n",
    "polarity_labels = list(label_dict.keys())\n",
    "\n",
    "\n",
    "f1_scores = []\n",
    "# print(decision_oh_f1)\n",
    "for k in list(label_dict.keys()):\n",
    "  print(k,str(label_dict[k]))\n",
    "  f1_scores.append(decision_oh_f1_perclass_dict[str(label_dict[k])]['f1-score'])\n",
    "\n",
    "fig = plt.figure()\n",
    "ax = fig.add_axes([0,0,1,1])\n",
    "ax.bar(polarity_labels, f1_scores)\n",
    "plt.xlabel(\"Classes\")\n",
    "plt.ylabel(\"F1-Score\")\n",
    "plt.show()\n",
    "\n"
   ]
  },
  {
   "cell_type": "markdown",
   "metadata": {
    "id": "5DFGWfHDjPk4"
   },
   "source": [
    "**Trying CNN**"
   ]
  },
  {
   "cell_type": "code",
   "execution_count": null,
   "metadata": {
    "id": "4CP23RlIJG59"
   },
   "outputs": [],
   "source": []
  },
  {
   "cell_type": "markdown",
   "metadata": {
    "id": "UFH5-t5xIfGS"
   },
   "source": []
  },
  {
   "cell_type": "code",
   "execution_count": 103,
   "metadata": {
    "colab": {
     "base_uri": "https://localhost:8080/"
    },
    "id": "rvUPtabMjn0v",
    "outputId": "4b8fd8f5-425a-45da-f618-f916672be4f2"
   },
   "outputs": [
    {
     "name": "stdout",
     "output_type": "stream",
     "text": [
      "Evaluation for: LR TF-IDF\n",
      "Classifier 'LR TF-IDF' has Acc=0.741 P=0.405 R=0.536 F1 Macro=0.433 F1 Weighted=0.758\n",
      "              precision    recall  f1-score   support\n",
      "\n",
      "           0      0.031     0.333     0.057         3\n",
      "           1      0.206     0.430     0.278       135\n",
      "           2      0.880     0.771     0.822      2870\n",
      "           3      0.615     0.714     0.661       950\n",
      "           4      0.291     0.431     0.347        58\n",
      "\n",
      "    accuracy                          0.741      4016\n",
      "   macro avg      0.405     0.536     0.433      4016\n",
      "weighted avg      0.786     0.741     0.758      4016\n",
      "\n",
      "\n",
      "Confusion matrix:\n",
      " [[   1    8   23    0    0]\n",
      " [   1   58  215    8    0]\n",
      " [   1   66 2213  220   14]\n",
      " [   0    3  402  678   19]\n",
      " [   0    0   17   44   25]]\n"
     ]
    },
    {
     "name": "stderr",
     "output_type": "stream",
     "text": [
      "/Users/swaroop/opt/anaconda3/lib/python3.8/site-packages/sklearn/utils/validation.py:70: FutureWarning: Pass beta=1 as keyword args. From version 1.0 (renaming of 0.25) passing these as positional arguments will result in an error\n",
      "  warnings.warn(f\"Pass {args_msg} as keyword args. From version \"\n",
      "/Users/swaroop/opt/anaconda3/lib/python3.8/site-packages/sklearn/utils/validation.py:70: FutureWarning: Pass beta=1 as keyword args. From version 1.0 (renaming of 0.25) passing these as positional arguments will result in an error\n",
      "  warnings.warn(f\"Pass {args_msg} as keyword args. From version \"\n"
     ]
    }
   ],
   "source": [
    "# \n",
    "from sklearn.linear_model import LogisticRegression\n",
    "lr = LogisticRegression(max_iter = 1000)\n",
    "lr_model = lr.fit(train_features_tf, train_labels)\n",
    "logistic_Q3= evaluation_summary(\"LR TF-IDF\", lr_model.predict(test_features_tf), test_labels)"
   ]
  },
  {
   "cell_type": "code",
   "execution_count": 42,
   "metadata": {
    "colab": {
     "base_uri": "https://localhost:8080/",
     "height": 419
    },
    "id": "gxMpCjEfrgyp",
    "outputId": "7e83fe84-8a64-4a65-eaf2-0e3760a11c1d"
   },
   "outputs": [
    {
     "data": {
      "text/html": [
       "<div>\n",
       "<style scoped>\n",
       "    .dataframe tbody tr th:only-of-type {\n",
       "        vertical-align: middle;\n",
       "    }\n",
       "\n",
       "    .dataframe tbody tr th {\n",
       "        vertical-align: top;\n",
       "    }\n",
       "\n",
       "    .dataframe thead th {\n",
       "        text-align: right;\n",
       "    }\n",
       "</style>\n",
       "<table border=\"1\" class=\"dataframe\">\n",
       "  <thead>\n",
       "    <tr style=\"text-align: right;\">\n",
       "      <th></th>\n",
       "      <th>subreddit</th>\n",
       "      <th>body</th>\n",
       "    </tr>\n",
       "  </thead>\n",
       "  <tbody>\n",
       "    <tr>\n",
       "      <th>0</th>\n",
       "      <td>relationships</td>\n",
       "      <td>It's a sad realization, isn't it?</td>\n",
       "    </tr>\n",
       "    <tr>\n",
       "      <th>1</th>\n",
       "      <td>relationships</td>\n",
       "      <td>I told her a couple of minutes ago that I didn...</td>\n",
       "    </tr>\n",
       "    <tr>\n",
       "      <th>2</th>\n",
       "      <td>relationships</td>\n",
       "      <td>Leeches don't make good friends.</td>\n",
       "    </tr>\n",
       "    <tr>\n",
       "      <th>3</th>\n",
       "      <td>relationships</td>\n",
       "      <td>I just ended it. Apparently she wasn't a good ...</td>\n",
       "    </tr>\n",
       "    <tr>\n",
       "      <th>4</th>\n",
       "      <td>relationships</td>\n",
       "      <td>Good for you!  Make sure you stick with it.</td>\n",
       "    </tr>\n",
       "    <tr>\n",
       "      <th>...</th>\n",
       "      <td>...</td>\n",
       "      <td>...</td>\n",
       "    </tr>\n",
       "    <tr>\n",
       "      <th>12133</th>\n",
       "      <td>reddit.com</td>\n",
       "      <td>If you were God, you'd know whether we would b...</td>\n",
       "    </tr>\n",
       "    <tr>\n",
       "      <th>12134</th>\n",
       "      <td>reddit.com</td>\n",
       "      <td>If I check my account balance in 5 minutes and...</td>\n",
       "    </tr>\n",
       "    <tr>\n",
       "      <th>12135</th>\n",
       "      <td>reddit.com</td>\n",
       "      <td>I don't know. Can you heal the sick with a tou...</td>\n",
       "    </tr>\n",
       "    <tr>\n",
       "      <th>12136</th>\n",
       "      <td>reddit.com</td>\n",
       "      <td>... Give LeBron James a championship ring?</td>\n",
       "    </tr>\n",
       "    <tr>\n",
       "      <th>12137</th>\n",
       "      <td>reddit.com</td>\n",
       "      <td>Well, if you believed it, that'd be one</td>\n",
       "    </tr>\n",
       "  </tbody>\n",
       "</table>\n",
       "<p>12138 rows × 2 columns</p>\n",
       "</div>"
      ],
      "text/plain": [
       "           subreddit                                               body\n",
       "0      relationships                  It's a sad realization, isn't it?\n",
       "1      relationships  I told her a couple of minutes ago that I didn...\n",
       "2      relationships                  Leeches don't make good friends. \n",
       "3      relationships  I just ended it. Apparently she wasn't a good ...\n",
       "4      relationships       Good for you!  Make sure you stick with it. \n",
       "...              ...                                                ...\n",
       "12133     reddit.com  If you were God, you'd know whether we would b...\n",
       "12134     reddit.com  If I check my account balance in 5 minutes and...\n",
       "12135     reddit.com  I don't know. Can you heal the sick with a tou...\n",
       "12136     reddit.com         ... Give LeBron James a championship ring?\n",
       "12137     reddit.com            Well, if you believed it, that'd be one\n",
       "\n",
       "[12138 rows x 2 columns]"
      ]
     },
     "execution_count": 42,
     "metadata": {
      "tags": []
     },
     "output_type": "execute_result"
    }
   ],
   "source": [
    "train_data[['subreddit', 'body']]"
   ]
  },
  {
   "cell_type": "code",
   "execution_count": 122,
   "metadata": {},
   "outputs": [],
   "source": [
    "from sklearn.base import BaseEstimator, TransformerMixin\n",
    "\n",
    "class ItemSelector(BaseEstimator, TransformerMixin):\n",
    "    \"\"\"For data grouped by feature, select subset of data at a provided key.    \"\"\"\n",
    "\n",
    "    def __init__(self, key):\n",
    "        self.key = key\n",
    "\n",
    "    def fit(self, x, y=None):\n",
    "        return self\n",
    "\n",
    "    def transform(self, data_dict):\n",
    "        return data_dict[self.key]"
   ]
  },
  {
   "cell_type": "code",
   "execution_count": null,
   "metadata": {},
   "outputs": [],
   "source": []
  },
  {
   "cell_type": "code",
   "execution_count": null,
   "metadata": {},
   "outputs": [],
   "source": []
  },
  {
   "cell_type": "code",
   "execution_count": 124,
   "metadata": {
    "id": "N15NdKN7Qqdv"
   },
   "outputs": [],
   "source": [
    "# train_features_with_subreddit = one_hot_vectorizer.fit_transform(train_data[['subreddit','body']])\n",
    "# test_features_with_subreddit = one_hot_vectorizer.fit_transform(test_data[['subreddit','body']])"
   ]
  },
  {
   "cell_type": "code",
   "execution_count": 246,
   "metadata": {
    "colab": {
     "base_uri": "https://localhost:8080/"
    },
    "id": "GWiNEj0-rKKo",
    "outputId": "d0aee75f-c227-4007-e1f1-a4e8db48c547"
   },
   "outputs": [],
   "source": [
    "from sklearn.preprocessing import StandardScaler, OneHotEncoder\n",
    "from sklearn.feature_extraction.text import TfidfVectorizer\n",
    "from sklearn.impute import SimpleImputer\n",
    "\n",
    "from sklearn.compose import ColumnTransformer\n",
    "from sklearn.pipeline import Pipeline\n",
    "\n",
    "from sklearn.dummy import DummyClassifier\n",
    "from sklearn.linear_model import SGDClassifier\n",
    "\n",
    "from sklearn import metrics\n",
    "\n",
    "\n",
    "# Use FeatureUnion to combine the features from text and summary\n",
    "prediction_pipeline = Pipeline([\n",
    "        ('union', FeatureUnion(\n",
    "          transformer_list=[\n",
    "#             ('majority_type', Pipeline([\n",
    "#               ('selector', ItemSelector(key='majority_type')),\n",
    "#               ('tf-idf', TfidfVectorizer(tokenizer=tokenize_normalize, sublinear_tf = True, max_features = 2000)), \n",
    "#               ])),\n",
    "            ('subjectivity', Pipeline([\n",
    "              ('selector', ItemSelector(key='sentiment.subjectivity')),\n",
    "#               ('tf-idf', TfidfVectorizer(sublinear_tf = True, max_features = 2000)), \n",
    "              ])),\n",
    "            ('body', Pipeline([\n",
    "              ('selector', ItemSelector(key='body')),\n",
    "              ('tf-idf', TfidfVectorizer(tokenizer=tokenize_normalize, sublinear_tf = True, max_features = 2000)), \n",
    "              ])),\n",
    "        ])\n",
    "        )\n",
    "    ])"
   ]
  },
  {
   "cell_type": "code",
   "execution_count": null,
   "metadata": {
    "colab": {
     "base_uri": "https://localhost:8080/",
     "height": 358
    },
    "id": "IWjCxaGur7wC",
    "outputId": "b955cb3f-77cb-4018-9cb3-dc2b55d2d53d"
   },
   "outputs": [],
   "source": []
  },
  {
   "cell_type": "code",
   "execution_count": null,
   "metadata": {},
   "outputs": [],
   "source": [
    "## All important step to set your transformers and vectorizers.\n",
    "numeric_features = ['sentiment.subjectivity']\n",
    "numeric_transformer = Pipeline(steps=[\n",
    "    ('imputer', SimpleImputer(strategy='median')),\n",
    "    ('scaler', StandardScaler())])\n",
    "\n",
    "categorical_features = ['author']\n",
    "categorical_transformer = OneHotEncoder(handle_unknown='ignore')\n",
    "\n",
    "text_features = ['title','body']\n",
    "text_transformer = TfidfVectorizer(sublinear_tf=True, norm='l2', encoding='latin-1', ngram_range=(1, 2), stop_words='english')\n",
    "\n",
    "\n",
    "preprocessor = ColumnTransformer(\n",
    "    transformers=[\n",
    "        ('num', numeric_transformer, numeric_features),\n",
    "        ('cat', categorical_transformer, categorical_features),\n",
    "        ('tfidf_1', text_transformer, 'title'),\n",
    "        ('tfidf_2', text_transformer, 'description')],\n",
    "                    remainder='drop')"
   ]
  },
  {
   "cell_type": "code",
   "execution_count": null,
   "metadata": {
    "id": "QbB8EJvnsUzH"
   },
   "outputs": [],
   "source": [
    "lr = LogisticRegression(solver = 'saga', penalty='l1', max_iter = 1500, C=10)\n",
    "combined_model = lr.fit(tf_idf_train_features,train_labels)\n",
    "evaluation_summary(\"LR TFIDF\", lr.predict(tf_idf_test_features), test_labels)"
   ]
  },
  {
   "cell_type": "code",
   "execution_count": 145,
   "metadata": {},
   "outputs": [],
   "source": []
  },
  {
   "cell_type": "code",
   "execution_count": 169,
   "metadata": {},
   "outputs": [],
   "source": [
    "tf_idf_vectorizer = TfidfVectorizer(tokenizer=tokenize_normalize, sublinear_tf = True, max_features = 2000)\n",
    "train_features_tf_mod = tf_idf_vectorizer.fit_transform(train_data['body'])\n",
    "validation_features_tf_mod = tf_idf_vectorizer.transform(validation_data['body'])\n",
    "test_features_tf_mod = tf_idf_vectorizer.transform(test_data['body'])"
   ]
  },
  {
   "cell_type": "code",
   "execution_count": 212,
   "metadata": {},
   "outputs": [],
   "source": [
    "lr_tuned_vec = LogisticRegression(solver='saga', penalty='l1', max_iter = 1500, C=10)"
   ]
  },
  {
   "cell_type": "code",
   "execution_count": 213,
   "metadata": {},
   "outputs": [
    {
     "name": "stdout",
     "output_type": "stream",
     "text": [
      "Evaluation for: LR TFIDF\n",
      "Classifier 'LR TFIDF' has Acc=0.774 P=0.576 R=0.606 F1 Macro=0.589 F1 Weighted=0.778\n",
      "              precision    recall  f1-score   support\n",
      "\n",
      "           0      0.469     0.500     0.484        30\n",
      "           1      0.418     0.546     0.474       216\n",
      "           2      0.863     0.820     0.841      2646\n",
      "           3      0.697     0.741     0.718      1036\n",
      "           4      0.430     0.420     0.425        88\n",
      "\n",
      "    accuracy                          0.774      4016\n",
      "   macro avg      0.576     0.606     0.589      4016\n",
      "weighted avg      0.784     0.774     0.778      4016\n",
      "\n",
      "\n",
      "Confusion matrix:\n",
      " [[  15    6   11    0    0]\n",
      " [   8  118  148    7    1]\n",
      " [   7   88 2170  228   21]\n",
      " [   0    4  301  768   29]\n",
      " [   0    0   16   33   37]]\n"
     ]
    },
    {
     "name": "stderr",
     "output_type": "stream",
     "text": [
      "/Users/swaroop/opt/anaconda3/lib/python3.8/site-packages/sklearn/utils/validation.py:70: FutureWarning: Pass beta=1 as keyword args. From version 1.0 (renaming of 0.25) passing these as positional arguments will result in an error\n",
      "  warnings.warn(f\"Pass {args_msg} as keyword args. From version \"\n",
      "/Users/swaroop/opt/anaconda3/lib/python3.8/site-packages/sklearn/utils/validation.py:70: FutureWarning: Pass beta=1 as keyword args. From version 1.0 (renaming of 0.25) passing these as positional arguments will result in an error\n",
      "  warnings.warn(f\"Pass {args_msg} as keyword args. From version \"\n"
     ]
    },
    {
     "data": {
      "text/plain": [
       "0.589"
      ]
     },
     "execution_count": 213,
     "metadata": {},
     "output_type": "execute_result"
    }
   ],
   "source": [
    "combined_model = lr_tuned_vec.fit(train_features_tf_mod,train_labels)\n",
    "evaluation_summary(\"LR TFIDF\", lr_tuned_vec.predict(test_features_tf_mod), test_labels)"
   ]
  },
  {
   "cell_type": "markdown",
   "metadata": {},
   "source": [
    "# Hyper parameter Tuning"
   ]
  },
  {
   "cell_type": "code",
   "execution_count": null,
   "metadata": {},
   "outputs": [
    {
     "name": "stdout",
     "output_type": "stream",
     "text": [
      "Performing grid search...\n",
      "pipeline: ['tfidf', 'clfpipe']\n",
      "parameters:\n",
      "{'clfpipe__C': (0.01, 0.1, 1, 10, 100)}\n",
      "Fitting 2 folds for each of 5 candidates, totalling 10 fits\n"
     ]
    }
   ],
   "source": [
    "from sklearn.pipeline import Pipeline\n",
    "from sklearn.model_selection import GridSearchCV\n",
    "from sklearn.linear_model import LogisticRegression\n",
    " \n",
    "prediction_pipeline = Pipeline([\n",
    "    ('tfidf', TfidfVectorizer(tokenizer=tokenize_normalize, sublinear_tf = True, max_features=2000)),\n",
    "    ('clfpipe', LogisticRegression(solver='saga', max_iter=3000)),\n",
    "])\n",
    "params = {\n",
    "#     'tfidf__max_features': (2000, 2500, 3000),\n",
    "#     'clfpipe__penalty' : ('l1', 'l2', 'none'),\n",
    "    'clfpipe__C': (0.01, 0.1, 1, 10, 100),\n",
    "    \n",
    "}\n",
    " \n",
    "grid_search = GridSearchCV(prediction_pipeline, param_grid=params, n_jobs=1, verbose=1, scoring='f1_macro', cv=2)\n",
    "print(\"Performing grid search...\")\n",
    "print(\"pipeline:\", [name for name, _ in prediction_pipeline.steps])\n",
    "print(\"parameters:\")\n",
    "print(params)\n",
    "grid_search.fit(train_data_mod['body'], train_labels_mod)\n",
    " \n",
    "print(\"Best score: %0.3f\" % grid_search.best_score_)\n",
    "print(\"Best parameters set:\")\n",
    "best_parameters = grid_search.best_estimator_.get_params()\n",
    "\n",
    "for param_name in sorted(params.keys()):\n",
    "  print(\"\\t%s: %r\" % (param_name, best_parameters[param_name]))"
   ]
  },
  {
   "cell_type": "markdown",
   "metadata": {},
   "source": [
    "# Test on Validation/development set"
   ]
  },
  {
   "cell_type": "code",
   "execution_count": 286,
   "metadata": {},
   "outputs": [],
   "source": [
    "class_0 = validation_data[validation_data['labels'] == 0]\n",
    "class_1 = validation_data[validation_data['labels'] == 1]\n",
    "class_3 = validation_data[validation_data['labels'] == 3]\n",
    "class_4 = validation_data[validation_data['labels'] == 4]"
   ]
  },
  {
   "cell_type": "code",
   "execution_count": 2,
   "metadata": {},
   "outputs": [
    {
     "ename": "NameError",
     "evalue": "name 'train_data' is not defined",
     "output_type": "error",
     "traceback": [
      "\u001b[0;31m---------------------------------------------------------------------------\u001b[0m",
      "\u001b[0;31mNameError\u001b[0m                                 Traceback (most recent call last)",
      "\u001b[0;32m<ipython-input-2-e9cc4ce6d4f7>\u001b[0m in \u001b[0;36m<module>\u001b[0;34m\u001b[0m\n\u001b[0;32m----> 1\u001b[0;31m \u001b[0mtrain_data_mod\u001b[0m \u001b[0;34m=\u001b[0m \u001b[0mtrain_data\u001b[0m\u001b[0;34m.\u001b[0m\u001b[0mappend\u001b[0m\u001b[0;34m(\u001b[0m\u001b[0;34m[\u001b[0m\u001b[0mclass_0\u001b[0m\u001b[0;34m,\u001b[0m \u001b[0mclass_1\u001b[0m\u001b[0;34m,\u001b[0m \u001b[0mclass_3\u001b[0m\u001b[0;34m,\u001b[0m \u001b[0mclass_4\u001b[0m\u001b[0;34m]\u001b[0m\u001b[0;34m,\u001b[0m\u001b[0mignore_index\u001b[0m\u001b[0;34m=\u001b[0m\u001b[0;32mTrue\u001b[0m\u001b[0;34m)\u001b[0m\u001b[0;34m\u001b[0m\u001b[0;34m\u001b[0m\u001b[0m\n\u001b[0m\u001b[1;32m      2\u001b[0m \u001b[0mtrain_labels_mod\u001b[0m \u001b[0;34m=\u001b[0m \u001b[0mtrain_data_mod\u001b[0m\u001b[0;34m[\u001b[0m\u001b[0;34m'labels'\u001b[0m\u001b[0;34m]\u001b[0m\u001b[0;34m\u001b[0m\u001b[0;34m\u001b[0m\u001b[0m\n",
      "\u001b[0;31mNameError\u001b[0m: name 'train_data' is not defined"
     ]
    }
   ],
   "source": [
    "train_data_mod = train_data.append([class_0, class_1, class_3, class_4],ignore_index=True)\n",
    "train_labels_mod = train_data_mod['labels']"
   ]
  },
  {
   "cell_type": "code",
   "execution_count": 288,
   "metadata": {},
   "outputs": [
    {
     "data": {
      "text/plain": [
       "2    7679\n",
       "3    4076\n",
       "1    1093\n",
       "4     326\n",
       "0     112\n",
       "Name: labels, dtype: int64"
      ]
     },
     "execution_count": 288,
     "metadata": {},
     "output_type": "execute_result"
    }
   ],
   "source": [
    "train_data_mod['labels'].value_counts()"
   ]
  },
  {
   "cell_type": "code",
   "execution_count": 289,
   "metadata": {},
   "outputs": [],
   "source": [
    "## All important step to set your transformers and vectorizers.\n",
    "numeric_features = ['sentiment.subjectivity']\n",
    "numeric_transformer = Pipeline(steps=[\n",
    "    ('imputer', SimpleImputer(strategy='median')),\n",
    "#     ('scaler', StandardScaler())\n",
    "    ])\n",
    "\n",
    "categorical_features = ['majority_type']\n",
    "categorical_transformer = OneHotEncoder(handle_unknown='ignore')\n",
    "\n",
    "text_features = ['title','body']\n",
    "text_transformer = TfidfVectorizer(tokenizer=tokenize_normalize, sublinear_tf=True, max_features=2000)\n",
    "\n",
    "\n",
    "preprocessor = ColumnTransformer(\n",
    "    transformers=[\n",
    "        ('num', numeric_transformer, numeric_features),\n",
    "        ('cat', categorical_transformer, categorical_features),\n",
    "#         ('tfidf_1', text_transformer, 'title'),\n",
    "#         ('tfidf_2', text_transformer, 'majority_type'),\n",
    "        ('tfidf_3', text_transformer, 'body')],\n",
    "                    remainder='drop')"
   ]
  },
  {
   "cell_type": "markdown",
   "metadata": {},
   "source": [
    "# Test on Validation/development set"
   ]
  },
  {
   "cell_type": "code",
   "execution_count": null,
   "metadata": {},
   "outputs": [],
   "source": [
    "# Train with the above parameters\n",
    "classif = LogisticRegression(solver='saga', penalty='l2' , max_iter = 2000, C=10)\n",
    "\n",
    "clf = Pipeline(steps=[('preprocessor', preprocessor),\n",
    "                        ('classifier', classif)])\n",
    "clf.fit(train_data_mod, train_labels_mod)\n",
    "# valid_pred = clf.predict(validation_data)\n",
    "# evaluation_summary(\"Logistic\", valid_pred, validation_labels)\n",
    "\n",
    "# print(metrics.classification_report(valid_labels, valid_pred, zero_division=0))"
   ]
  },
  {
   "cell_type": "code",
   "execution_count": 310,
   "metadata": {},
   "outputs": [
    {
     "name": "stdout",
     "output_type": "stream",
     "text": [
      "Evaluation for: Logistic\n",
      "Classifier 'Logistic' has Acc=0.801 P=0.609 R=0.673 F1 Macro=0.636 F1 Weighted=0.803\n",
      "              precision    recall  f1-score   support\n",
      "\n",
      "           0      0.500     0.640     0.561        25\n",
      "           1      0.472     0.556     0.511       239\n",
      "           2      0.866     0.869     0.868      2506\n",
      "           3      0.775     0.723     0.748      1182\n",
      "           4      0.430     0.578     0.493        64\n",
      "\n",
      "    accuracy                          0.801      4016\n",
      "   macro avg      0.609     0.673     0.636      4016\n",
      "weighted avg      0.807     0.801     0.803      4016\n",
      "\n",
      "\n",
      "Confusion matrix:\n",
      " [[  16   10    0    5    1]\n",
      " [   5  133  112   28    4]\n",
      " [   1   80 2178  247    8]\n",
      " [   3   15  216  854   14]\n",
      " [   0    1    0   48   37]]\n"
     ]
    },
    {
     "name": "stderr",
     "output_type": "stream",
     "text": [
      "/Users/swaroop/opt/anaconda3/lib/python3.8/site-packages/sklearn/utils/validation.py:70: FutureWarning: Pass beta=1 as keyword args. From version 1.0 (renaming of 0.25) passing these as positional arguments will result in an error\n",
      "  warnings.warn(f\"Pass {args_msg} as keyword args. From version \"\n",
      "/Users/swaroop/opt/anaconda3/lib/python3.8/site-packages/sklearn/utils/validation.py:70: FutureWarning: Pass beta=1 as keyword args. From version 1.0 (renaming of 0.25) passing these as positional arguments will result in an error\n",
      "  warnings.warn(f\"Pass {args_msg} as keyword args. From version \"\n"
     ]
    },
    {
     "ename": "IndexError",
     "evalue": "tuple index out of range",
     "output_type": "error",
     "traceback": [
      "\u001b[0;31m---------------------------------------------------------------------------\u001b[0m",
      "\u001b[0;31mIndexError\u001b[0m                                Traceback (most recent call last)",
      "\u001b[0;32m<ipython-input-310-b90ccf7ad11b>\u001b[0m in \u001b[0;36m<module>\u001b[0;34m\u001b[0m\n\u001b[1;32m      1\u001b[0m \u001b[0mtest_pred\u001b[0m \u001b[0;34m=\u001b[0m \u001b[0mclf\u001b[0m\u001b[0;34m.\u001b[0m\u001b[0mpredict\u001b[0m\u001b[0;34m(\u001b[0m\u001b[0mtest_data\u001b[0m\u001b[0;34m)\u001b[0m\u001b[0;34m\u001b[0m\u001b[0;34m\u001b[0m\u001b[0m\n\u001b[1;32m      2\u001b[0m \u001b[0mevaluation_summary\u001b[0m\u001b[0;34m(\u001b[0m\u001b[0;34m\"Logistic\"\u001b[0m\u001b[0;34m,\u001b[0m \u001b[0mtest_pred\u001b[0m\u001b[0;34m,\u001b[0m \u001b[0mtest_labels\u001b[0m\u001b[0;34m)\u001b[0m\u001b[0;34m\u001b[0m\u001b[0;34m\u001b[0m\u001b[0m\n\u001b[0;32m----> 3\u001b[0;31m \u001b[0mplot_confusion_matrix\u001b[0m\u001b[0;34m(\u001b[0m\u001b[0mclf\u001b[0m\u001b[0;34m,\u001b[0m \u001b[0mtest_pred\u001b[0m\u001b[0;34m,\u001b[0m \u001b[0mtest_labels\u001b[0m\u001b[0;34m,\u001b[0m \u001b[0mcmap\u001b[0m\u001b[0;34m=\u001b[0m\u001b[0mplt\u001b[0m\u001b[0;34m.\u001b[0m\u001b[0mcm\u001b[0m\u001b[0;34m.\u001b[0m\u001b[0mBlues\u001b[0m\u001b[0;34m)\u001b[0m\u001b[0;34m\u001b[0m\u001b[0;34m\u001b[0m\u001b[0m\n\u001b[0m",
      "\u001b[0;32m~/opt/anaconda3/lib/python3.8/site-packages/sklearn/utils/validation.py\u001b[0m in \u001b[0;36minner_f\u001b[0;34m(*args, **kwargs)\u001b[0m\n\u001b[1;32m     61\u001b[0m             \u001b[0mextra_args\u001b[0m \u001b[0;34m=\u001b[0m \u001b[0mlen\u001b[0m\u001b[0;34m(\u001b[0m\u001b[0margs\u001b[0m\u001b[0;34m)\u001b[0m \u001b[0;34m-\u001b[0m \u001b[0mlen\u001b[0m\u001b[0;34m(\u001b[0m\u001b[0mall_args\u001b[0m\u001b[0;34m)\u001b[0m\u001b[0;34m\u001b[0m\u001b[0;34m\u001b[0m\u001b[0m\n\u001b[1;32m     62\u001b[0m             \u001b[0;32mif\u001b[0m \u001b[0mextra_args\u001b[0m \u001b[0;34m<=\u001b[0m \u001b[0;36m0\u001b[0m\u001b[0;34m:\u001b[0m\u001b[0;34m\u001b[0m\u001b[0;34m\u001b[0m\u001b[0m\n\u001b[0;32m---> 63\u001b[0;31m                 \u001b[0;32mreturn\u001b[0m \u001b[0mf\u001b[0m\u001b[0;34m(\u001b[0m\u001b[0;34m*\u001b[0m\u001b[0margs\u001b[0m\u001b[0;34m,\u001b[0m \u001b[0;34m**\u001b[0m\u001b[0mkwargs\u001b[0m\u001b[0;34m)\u001b[0m\u001b[0;34m\u001b[0m\u001b[0;34m\u001b[0m\u001b[0m\n\u001b[0m\u001b[1;32m     64\u001b[0m \u001b[0;34m\u001b[0m\u001b[0m\n\u001b[1;32m     65\u001b[0m             \u001b[0;31m# extra_args > 0\u001b[0m\u001b[0;34m\u001b[0m\u001b[0;34m\u001b[0m\u001b[0;34m\u001b[0m\u001b[0m\n",
      "\u001b[0;32m~/opt/anaconda3/lib/python3.8/site-packages/sklearn/metrics/_plot/confusion_matrix.py\u001b[0m in \u001b[0;36mplot_confusion_matrix\u001b[0;34m(estimator, X, y_true, labels, sample_weight, normalize, display_labels, include_values, xticks_rotation, values_format, cmap, ax, colorbar)\u001b[0m\n\u001b[1;32m    258\u001b[0m         \u001b[0;32mraise\u001b[0m \u001b[0mValueError\u001b[0m\u001b[0;34m(\u001b[0m\u001b[0;34m\"plot_confusion_matrix only supports classifiers\"\u001b[0m\u001b[0;34m)\u001b[0m\u001b[0;34m\u001b[0m\u001b[0;34m\u001b[0m\u001b[0m\n\u001b[1;32m    259\u001b[0m \u001b[0;34m\u001b[0m\u001b[0m\n\u001b[0;32m--> 260\u001b[0;31m     \u001b[0my_pred\u001b[0m \u001b[0;34m=\u001b[0m \u001b[0mestimator\u001b[0m\u001b[0;34m.\u001b[0m\u001b[0mpredict\u001b[0m\u001b[0;34m(\u001b[0m\u001b[0mX\u001b[0m\u001b[0;34m)\u001b[0m\u001b[0;34m\u001b[0m\u001b[0;34m\u001b[0m\u001b[0m\n\u001b[0m\u001b[1;32m    261\u001b[0m     cm = confusion_matrix(y_true, y_pred, sample_weight=sample_weight,\n\u001b[1;32m    262\u001b[0m                           labels=labels, normalize=normalize)\n",
      "\u001b[0;32m~/opt/anaconda3/lib/python3.8/site-packages/sklearn/utils/metaestimators.py\u001b[0m in \u001b[0;36m<lambda>\u001b[0;34m(*args, **kwargs)\u001b[0m\n\u001b[1;32m    118\u001b[0m \u001b[0;34m\u001b[0m\u001b[0m\n\u001b[1;32m    119\u001b[0m         \u001b[0;31m# lambda, but not partial, allows help() to work with update_wrapper\u001b[0m\u001b[0;34m\u001b[0m\u001b[0;34m\u001b[0m\u001b[0;34m\u001b[0m\u001b[0m\n\u001b[0;32m--> 120\u001b[0;31m         \u001b[0mout\u001b[0m \u001b[0;34m=\u001b[0m \u001b[0;32mlambda\u001b[0m \u001b[0;34m*\u001b[0m\u001b[0margs\u001b[0m\u001b[0;34m,\u001b[0m \u001b[0;34m**\u001b[0m\u001b[0mkwargs\u001b[0m\u001b[0;34m:\u001b[0m \u001b[0mself\u001b[0m\u001b[0;34m.\u001b[0m\u001b[0mfn\u001b[0m\u001b[0;34m(\u001b[0m\u001b[0mobj\u001b[0m\u001b[0;34m,\u001b[0m \u001b[0;34m*\u001b[0m\u001b[0margs\u001b[0m\u001b[0;34m,\u001b[0m \u001b[0;34m**\u001b[0m\u001b[0mkwargs\u001b[0m\u001b[0;34m)\u001b[0m\u001b[0;34m\u001b[0m\u001b[0;34m\u001b[0m\u001b[0m\n\u001b[0m\u001b[1;32m    121\u001b[0m         \u001b[0;31m# update the docstring of the returned function\u001b[0m\u001b[0;34m\u001b[0m\u001b[0;34m\u001b[0m\u001b[0;34m\u001b[0m\u001b[0m\n\u001b[1;32m    122\u001b[0m         \u001b[0mupdate_wrapper\u001b[0m\u001b[0;34m(\u001b[0m\u001b[0mout\u001b[0m\u001b[0;34m,\u001b[0m \u001b[0mself\u001b[0m\u001b[0;34m.\u001b[0m\u001b[0mfn\u001b[0m\u001b[0;34m)\u001b[0m\u001b[0;34m\u001b[0m\u001b[0;34m\u001b[0m\u001b[0m\n",
      "\u001b[0;32m~/opt/anaconda3/lib/python3.8/site-packages/sklearn/pipeline.py\u001b[0m in \u001b[0;36mpredict\u001b[0;34m(self, X, **predict_params)\u001b[0m\n\u001b[1;32m    416\u001b[0m         \u001b[0mXt\u001b[0m \u001b[0;34m=\u001b[0m \u001b[0mX\u001b[0m\u001b[0;34m\u001b[0m\u001b[0;34m\u001b[0m\u001b[0m\n\u001b[1;32m    417\u001b[0m         \u001b[0;32mfor\u001b[0m \u001b[0m_\u001b[0m\u001b[0;34m,\u001b[0m \u001b[0mname\u001b[0m\u001b[0;34m,\u001b[0m \u001b[0mtransform\u001b[0m \u001b[0;32min\u001b[0m \u001b[0mself\u001b[0m\u001b[0;34m.\u001b[0m\u001b[0m_iter\u001b[0m\u001b[0;34m(\u001b[0m\u001b[0mwith_final\u001b[0m\u001b[0;34m=\u001b[0m\u001b[0;32mFalse\u001b[0m\u001b[0;34m)\u001b[0m\u001b[0;34m:\u001b[0m\u001b[0;34m\u001b[0m\u001b[0;34m\u001b[0m\u001b[0m\n\u001b[0;32m--> 418\u001b[0;31m             \u001b[0mXt\u001b[0m \u001b[0;34m=\u001b[0m \u001b[0mtransform\u001b[0m\u001b[0;34m.\u001b[0m\u001b[0mtransform\u001b[0m\u001b[0;34m(\u001b[0m\u001b[0mXt\u001b[0m\u001b[0;34m)\u001b[0m\u001b[0;34m\u001b[0m\u001b[0;34m\u001b[0m\u001b[0m\n\u001b[0m\u001b[1;32m    419\u001b[0m         \u001b[0;32mreturn\u001b[0m \u001b[0mself\u001b[0m\u001b[0;34m.\u001b[0m\u001b[0msteps\u001b[0m\u001b[0;34m[\u001b[0m\u001b[0;34m-\u001b[0m\u001b[0;36m1\u001b[0m\u001b[0;34m]\u001b[0m\u001b[0;34m[\u001b[0m\u001b[0;34m-\u001b[0m\u001b[0;36m1\u001b[0m\u001b[0;34m]\u001b[0m\u001b[0;34m.\u001b[0m\u001b[0mpredict\u001b[0m\u001b[0;34m(\u001b[0m\u001b[0mXt\u001b[0m\u001b[0;34m,\u001b[0m \u001b[0;34m**\u001b[0m\u001b[0mpredict_params\u001b[0m\u001b[0;34m)\u001b[0m\u001b[0;34m\u001b[0m\u001b[0;34m\u001b[0m\u001b[0m\n\u001b[1;32m    420\u001b[0m \u001b[0;34m\u001b[0m\u001b[0m\n",
      "\u001b[0;32m~/opt/anaconda3/lib/python3.8/site-packages/sklearn/compose/_column_transformer.py\u001b[0m in \u001b[0;36mtransform\u001b[0;34m(self, X)\u001b[0m\n\u001b[1;32m    555\u001b[0m             \u001b[0mX_feature_names\u001b[0m \u001b[0;34m=\u001b[0m \u001b[0;32mNone\u001b[0m\u001b[0;34m\u001b[0m\u001b[0;34m\u001b[0m\u001b[0m\n\u001b[1;32m    556\u001b[0m \u001b[0;34m\u001b[0m\u001b[0m\n\u001b[0;32m--> 557\u001b[0;31m         \u001b[0mself\u001b[0m\u001b[0;34m.\u001b[0m\u001b[0m_check_n_features\u001b[0m\u001b[0;34m(\u001b[0m\u001b[0mX\u001b[0m\u001b[0;34m,\u001b[0m \u001b[0mreset\u001b[0m\u001b[0;34m=\u001b[0m\u001b[0;32mFalse\u001b[0m\u001b[0;34m)\u001b[0m\u001b[0;34m\u001b[0m\u001b[0;34m\u001b[0m\u001b[0m\n\u001b[0m\u001b[1;32m    558\u001b[0m         if (self._feature_names_in is not None and\n\u001b[1;32m    559\u001b[0m             \u001b[0mX_feature_names\u001b[0m \u001b[0;32mis\u001b[0m \u001b[0;32mnot\u001b[0m \u001b[0;32mNone\u001b[0m \u001b[0;32mand\u001b[0m\u001b[0;34m\u001b[0m\u001b[0;34m\u001b[0m\u001b[0m\n",
      "\u001b[0;32m~/opt/anaconda3/lib/python3.8/site-packages/sklearn/base.py\u001b[0m in \u001b[0;36m_check_n_features\u001b[0;34m(self, X, reset)\u001b[0m\n\u001b[1;32m    350\u001b[0m                \u001b[0mshould\u001b[0m \u001b[0mset\u001b[0m\u001b[0;31m \u001b[0m\u001b[0;31m`\u001b[0m\u001b[0mreset\u001b[0m\u001b[0;34m=\u001b[0m\u001b[0;32mFalse\u001b[0m\u001b[0;31m`\u001b[0m\u001b[0;34m.\u001b[0m\u001b[0;34m\u001b[0m\u001b[0;34m\u001b[0m\u001b[0m\n\u001b[1;32m    351\u001b[0m         \"\"\"\n\u001b[0;32m--> 352\u001b[0;31m         \u001b[0mn_features\u001b[0m \u001b[0;34m=\u001b[0m \u001b[0mX\u001b[0m\u001b[0;34m.\u001b[0m\u001b[0mshape\u001b[0m\u001b[0;34m[\u001b[0m\u001b[0;36m1\u001b[0m\u001b[0;34m]\u001b[0m\u001b[0;34m\u001b[0m\u001b[0;34m\u001b[0m\u001b[0m\n\u001b[0m\u001b[1;32m    353\u001b[0m \u001b[0;34m\u001b[0m\u001b[0m\n\u001b[1;32m    354\u001b[0m         \u001b[0;32mif\u001b[0m \u001b[0mreset\u001b[0m\u001b[0;34m:\u001b[0m\u001b[0;34m\u001b[0m\u001b[0;34m\u001b[0m\u001b[0m\n",
      "\u001b[0;31mIndexError\u001b[0m: tuple index out of range"
     ]
    }
   ],
   "source": [
    "test_pred = clf.predict(test_data)\n",
    "evaluation_summary(\"Logistic\", test_pred, test_labels)\n",
    "plot_confusion_matrix(clf, test_pred, test_labels, cmap=plt.cm.Blues)"
   ]
  },
  {
   "cell_type": "code",
   "execution_count": 306,
   "metadata": {},
   "outputs": [
    {
     "data": {
      "text/plain": [
       "{'very negative': 0,\n",
       " 'negative': 1,\n",
       " 'neutral': 2,\n",
       " 'positive': 3,\n",
       " 'very positive': 4}"
      ]
     },
     "execution_count": 306,
     "metadata": {},
     "output_type": "execute_result"
    }
   ],
   "source": [
    "label_dict"
   ]
  },
  {
   "cell_type": "code",
   "execution_count": 1,
   "metadata": {},
   "outputs": [
    {
     "ename": "NameError",
     "evalue": "name 'train_data_mod' is not defined",
     "output_type": "error",
     "traceback": [
      "\u001b[0;31m---------------------------------------------------------------------------\u001b[0m",
      "\u001b[0;31mNameError\u001b[0m                                 Traceback (most recent call last)",
      "\u001b[0;32m<ipython-input-1-ec48bb03a762>\u001b[0m in \u001b[0;36m<module>\u001b[0;34m\u001b[0m\n\u001b[0;32m----> 1\u001b[0;31m \u001b[0mtrain_data_mod\u001b[0m\u001b[0;34m[\u001b[0m\u001b[0mtrain_data_mod\u001b[0m\u001b[0;34m[\u001b[0m\u001b[0;34m'labels'\u001b[0m\u001b[0;34m]\u001b[0m \u001b[0;34m==\u001b[0m \u001b[0;36m4\u001b[0m\u001b[0;34m]\u001b[0m\u001b[0;34m[\u001b[0m\u001b[0;34m'body'\u001b[0m\u001b[0;34m]\u001b[0m\u001b[0;34m\u001b[0m\u001b[0;34m\u001b[0m\u001b[0m\n\u001b[0m",
      "\u001b[0;31mNameError\u001b[0m: name 'train_data_mod' is not defined"
     ]
    }
   ],
   "source": [
    "train_data_mod[train_data_mod['labels'] == 4]['body']"
   ]
  },
  {
   "cell_type": "code",
   "execution_count": 292,
   "metadata": {},
   "outputs": [
    {
     "name": "stderr",
     "output_type": "stream",
     "text": [
      "/Users/swaroop/opt/anaconda3/lib/python3.8/site-packages/sklearn/linear_model/_sag.py:328: ConvergenceWarning: The max_iter was reached which means the coef_ did not converge\n",
      "  warnings.warn(\"The max_iter was reached which means \"\n"
     ]
    },
    {
     "name": "stdout",
     "output_type": "stream",
     "text": [
      "Evaluation for: Logistic\n",
      "Classifier 'Logistic' has Acc=0.806 P=0.613 R=0.628 F1 Macro=0.620 F1 Weighted=0.807\n",
      "              precision    recall  f1-score   support\n",
      "\n",
      "           0      0.500     0.516     0.508        31\n",
      "           1      0.514     0.566     0.539       256\n",
      "           2      0.878     0.868     0.873      2545\n",
      "           3      0.755     0.756     0.755      1101\n",
      "           4      0.419     0.434     0.426        83\n",
      "\n",
      "    accuracy                          0.806      4016\n",
      "   macro avg      0.613     0.628     0.620      4016\n",
      "weighted avg      0.809     0.806     0.807      4016\n",
      "\n",
      "\n",
      "Confusion matrix:\n",
      " [[  16   11    0    4    1]\n",
      " [   7  145  102   22    6]\n",
      " [   6   81 2208  200   19]\n",
      " [   1   13  235  832   21]\n",
      " [   1    6    0   43   36]]\n",
      "              precision    recall  f1-score   support\n",
      "\n",
      "           0       0.52      0.50      0.51        32\n",
      "           1       0.57      0.51      0.54       282\n",
      "           2       0.87      0.88      0.87      2514\n",
      "           3       0.76      0.75      0.76      1102\n",
      "           4       0.43      0.42      0.43        86\n",
      "\n",
      "    accuracy                           0.81      4016\n",
      "   macro avg       0.63      0.61      0.62      4016\n",
      "weighted avg       0.80      0.81      0.80      4016\n",
      "\n"
     ]
    },
    {
     "name": "stderr",
     "output_type": "stream",
     "text": [
      "/Users/swaroop/opt/anaconda3/lib/python3.8/site-packages/sklearn/utils/validation.py:70: FutureWarning: Pass beta=1 as keyword args. From version 1.0 (renaming of 0.25) passing these as positional arguments will result in an error\n",
      "  warnings.warn(f\"Pass {args_msg} as keyword args. From version \"\n",
      "/Users/swaroop/opt/anaconda3/lib/python3.8/site-packages/sklearn/utils/validation.py:70: FutureWarning: Pass beta=1 as keyword args. From version 1.0 (renaming of 0.25) passing these as positional arguments will result in an error\n",
      "  warnings.warn(f\"Pass {args_msg} as keyword args. From version \"\n"
     ]
    }
   ],
   "source": [
    "classif = LogisticRegression(solver='saga', penalty='l1' , max_iter = 2000, C=10)\n",
    " \n",
    "clf = Pipeline(steps=[('preprocessor', preprocessor),\n",
    "                        ('classifier', classif)])\n",
    " \n",
    "clf.fit(train_data, train_labels)\n",
    "test_pred = clf.predict(test_data)\n",
    "evaluation_summary(\"Logistic\", test_pred, test_labels)\n",
    "print(metrics.classification_report(test_labels, test_pred, zero_division=0))\n",
    "plot_confusion_matrix(clf, test_pred, test_labels, cmap=plt.cm.Blues,)\n"
   ]
  },
  {
   "cell_type": "code",
   "execution_count": null,
   "metadata": {},
   "outputs": [],
   "source": []
  },
  {
   "cell_type": "markdown",
   "metadata": {},
   "source": [
    "# majority_type + body+ subjectivity with scalar = 0.60"
   ]
  },
  {
   "cell_type": "markdown",
   "metadata": {},
   "source": [
    "# majority_type + body + subjectivity without scalar = 0.62"
   ]
  },
  {
   "cell_type": "markdown",
   "metadata": {},
   "source": [
    "# Majority + body = 0.58"
   ]
  },
  {
   "cell_type": "markdown",
   "metadata": {},
   "source": [
    "# Majority + title+ body = 0.53\n",
    "\n"
   ]
  },
  {
   "cell_type": "markdown",
   "metadata": {},
   "source": [
    "# Subjectivity + Body = 0.625"
   ]
  },
  {
   "cell_type": "markdown",
   "metadata": {},
   "source": [
    "# Sub + majority + body = 0.624"
   ]
  },
  {
   "cell_type": "code",
   "execution_count": null,
   "metadata": {},
   "outputs": [],
   "source": []
  }
 ],
 "metadata": {
  "accelerator": "GPU",
  "colab": {
   "collapsed_sections": [],
   "name": "TaD Coursework Skeleton 2021 - May-June",
   "provenance": []
  },
  "kernelspec": {
   "display_name": "Python 3",
   "language": "python",
   "name": "python3"
  },
  "language_info": {
   "codemirror_mode": {
    "name": "ipython",
    "version": 3
   },
   "file_extension": ".py",
   "mimetype": "text/x-python",
   "name": "python",
   "nbconvert_exporter": "python",
   "pygments_lexer": "ipython3",
   "version": "3.8.3"
  }
 },
 "nbformat": 4,
 "nbformat_minor": 1
}
